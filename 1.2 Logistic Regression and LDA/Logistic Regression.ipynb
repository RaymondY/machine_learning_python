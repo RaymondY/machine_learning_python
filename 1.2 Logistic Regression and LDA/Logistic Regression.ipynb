{
 "cells": [
  {
   "cell_type": "code",
   "execution_count": 1,
   "metadata": {},
   "outputs": [],
   "source": [
    "import os\n",
    "import sys\n",
    "import pandas as pd\n",
    "import numpy as np\n",
    "import matplotlib as mpl\n",
    "import matplotlib.pyplot as plt\n",
    "\n",
    "from scipy.optimize import minimize\n",
    "\n",
    "pd.set_option('display.notebook_repr_html', False)\n",
    "pd.set_option('display.max_columns', None)\n",
    "pd.set_option('display.max_rows', 150)\n",
    "pd.set_option('display.max_seq_items', None)\n",
    "\n",
    "%matplotlib inline\n",
    "\n",
    "import seaborn as sns\n",
    "sns.set_context('notebook')\n",
    "sns.set_style('white')"
   ]
  },
  {
   "cell_type": "code",
   "execution_count": 2,
   "metadata": {},
   "outputs": [],
   "source": [
    "# build a logistic regression model to predict whether a student gets admitted into a university\n",
    "\n",
    "# 读取数据\n",
    "data = np.loadtxt(os.getcwd()+'/ex2data1.txt', delimiter=',')\n",
    "\n",
    "# 分离正负数据(eg. : [34.62365962451697,78.0246928153624,0])\n",
    "neg = data[:,2] == 0\n",
    "pos = data[:,2] == 1"
   ]
  },
  {
   "cell_type": "code",
   "execution_count": 3,
   "metadata": {},
   "outputs": [
    {
     "data": {
      "image/png": "[encoded data removed]",
      "text/plain": [
       "<Figure size 432x288 with 1 Axes>"
      ]
     },
     "metadata": {
      "needs_background": "light"
     },
     "output_type": "display_data"
    }
   ],
   "source": [
    "# 1.1 Visualizing the data\n",
    "plt.scatter(data[neg][:,0], data[neg][:,1], s=20, c='y', marker='o', linewidths=2, label='Not admitted')\n",
    "plt.scatter(data[pos][:,0], data[pos][:,1], s=30, c='k', marker='+', linewidths=2, label='Admitted')\n",
    "plt.xlabel('Exam 1 score')\n",
    "plt.ylabel('Exam 2 score')\n",
    "plt.legend(loc=1);"
   ]
  },
  {
   "cell_type": "code",
   "execution_count": 4,
   "metadata": {},
   "outputs": [],
   "source": [
    "# 1.2.1 Warmup exercise: sigmoid function\n",
    "\n",
    "def getSigmoid(z):\n",
    "    return (1 / (1 + np.exp(-z)))"
   ]
  },
  {
   "cell_type": "code",
   "execution_count": 5,
   "metadata": {},
   "outputs": [],
   "source": [
    "# 1.2.2 Cost function and gradient\n",
    "\n",
    "def getCost(theta, X, y):\n",
    "    m = y.size\n",
    "    print(theta)\n",
    "    h = getSigmoid(X.dot(theta))\n",
    "    J = (-1 / m) * (np.log(h).T.dot(y) + np.log(1-h).T.dot(1-y))\n",
    "    \n",
    "    if np.isnan(J[0]):\n",
    "        return(np.inf)\n",
    "    \n",
    "    return J[0]\n",
    "\n",
    "def getGradient(theta, X, y):\n",
    "    m = y.size\n",
    "    h = getSigmoid(X.dot(theta.reshape(-1, 1)))\n",
    "    grad = (1 / m) * (X.T.dot(h-y))\n",
    "    return grad.flatten()"
   ]
  },
  {
   "cell_type": "code",
   "execution_count": 6,
   "metadata": {},
   "outputs": [
    {
     "name": "stdout",
     "output_type": "stream",
     "text": [
      "[0. 0. 0.]\n",
      "0.6931471805599453\n",
      "[ -0.1        -12.00921659 -11.26284221]\n"
     ]
    }
   ],
   "source": [
    "# 初始化数据\n",
    "\n",
    "X = np.c_[np.ones((data.shape[0],1)), data[:,0:2]]\n",
    "y = np.c_[data[:,2]]\n",
    "theta = np.zeros(X.shape[1])\n",
    "print(getCost(theta, X, y))\n",
    "print(getGradient(theta, X, y))"
   ]
  },
  {
   "cell_type": "code",
   "execution_count": 7,
   "metadata": {},
   "outputs": [
    {
     "name": "stdout",
     "output_type": "stream",
     "text": [
      "[0. 0. 0.]\n",
      "[1.49011612e-09 1.78951272e-07 1.67829427e-07]\n",
      "[4.42735730e-05 5.31690927e-03 4.98646266e-03]\n",
      "[4.42727225e-05 5.31690928e-03 4.98646267e-03]\n",
      "[-0.96850414  0.02261405  0.00984198]\n",
      "[-0.96850417  0.02261405  0.00984198]\n",
      "[-5.96093598  0.08850416  0.01879109]\n",
      "[-5.96093599  0.08850416  0.01879109]\n",
      "[-5.97536724  0.0808157   0.01856154]\n",
      "[-5.97536735  0.0808157   0.01856154]\n",
      "[-8.60470127  0.11307795  0.02965583]\n",
      "[-8.60473062  0.11307808  0.02965595]\n",
      "[-9.09336263  0.11517338  0.03173885]\n",
      "[-9.09336281  0.11517338  0.03173885]\n",
      "[-15.80914762   0.16072306   0.09492273]\n",
      "[-19.09269011   0.18299362   0.12581517]\n",
      "[-19.09273438   0.18299377   0.12581573]\n",
      "[-23.68500401   0.19862742   0.18435949]\n",
      "[-23.68500043   0.19862747   0.1843595 ]\n",
      "[-23.66519851   0.19886191   0.18442478]\n",
      "[-23.66519882   0.19886192   0.18442479]\n",
      "[-24.70442556   0.20247107   0.1977947 ]\n",
      "[-24.70442555   0.20247138   0.19779493]\n",
      "[-24.70442513   0.20252072   0.19783378]\n",
      "[-24.70442513   0.20252072   0.19783378]\n",
      "[-24.7557076    0.20325562   0.19790807]\n",
      "[-24.75570761   0.20325562   0.19790807]\n",
      "[-25.15282198   0.20620298   0.20129515]\n",
      "[-25.15282199   0.20620298   0.20129515]\n",
      "[-25.1629493    0.20630787   0.20142155]\n",
      "[-25.1629493    0.20630787   0.20142155]\n",
      "[-25.17661005   0.20639269   0.20155399]\n",
      "[-25.17660678   0.20639265   0.20155398]\n",
      "[-25.16957976   0.20631859   0.20152973]\n",
      "[-25.16957975   0.20631859   0.20152973]\n",
      "[-25.16131871   0.20623159   0.20147149]\n",
      "[-25.16131871   0.20623159   0.20147149]\n"
     ]
    },
    {
     "data": {
      "text/plain": [
       "     fun: 0.20349770158947422\n",
       "     jac: array([8.99468320e-09, 8.49039867e-08, 4.81725684e-07])\n",
       " message: 'Local minimum reached (|pg| ~= 0)'\n",
       "    nfev: 36\n",
       "     nit: 17\n",
       "  status: 0\n",
       " success: True\n",
       "       x: array([-25.16131871,   0.20623159,   0.20147149])"
      ]
     },
     "execution_count": 7,
     "metadata": {},
     "output_type": "execute_result"
    }
   ],
   "source": [
    "# 1.2.3 Learning parameters using fminunc\n",
    "# 使用scipy库里面的minimize函数来替代matlab的fminunc\n",
    "result = minimize(getCost, theta, args=(X, y), method='TNC', jac=getGradient, options={'maxiter': 400})\n",
    "result"
   ]
  },
  {
   "cell_type": "code",
   "execution_count": 8,
   "metadata": {},
   "outputs": [
    {
     "data": {
      "text/plain": [
       "0.776290625135764"
      ]
     },
     "execution_count": 8,
     "metadata": {},
     "output_type": "execute_result"
    }
   ],
   "source": [
    "# for a student with an Exam 1 score of 45 and an Exam 2 score of 85\n",
    "# You should expect to see an admission probability of 0.776.\n",
    "\n",
    "instance_data = np.array([1, 45, 85])\n",
    "getSigmoid(instance_data.dot(result.x.T))"
   ]
  },
  {
   "cell_type": "code",
   "execution_count": 9,
   "metadata": {},
   "outputs": [
    {
     "data": {
      "text/plain": [
       "<a list of 1 text.Text objects>"
      ]
     },
     "execution_count": 9,
     "metadata": {},
     "output_type": "execute_result"
    },
    {
     "data": {
      "image/png": "[encoded data removed]",
      "text/plain": [
       "<Figure size 432x288 with 1 Axes>"
      ]
     },
     "metadata": {
      "needs_background": "light"
     },
     "output_type": "display_data"
    }
   ],
   "source": [
    "# draw\n",
    "\n",
    "plt.scatter(45, 85, s=20, c='r', marker='v', label='instance: (45, 85)')\n",
    "plt.scatter(data[neg][:,0], data[neg][:,1], s=20, c='y', marker='o', linewidths=2, label='Not admitted')\n",
    "plt.scatter(data[pos][:,0], data[pos][:,1], s=30, c='k', marker='+', linewidths=2, label='Admitted')\n",
    "plt.xlabel('Exam 1 score')\n",
    "plt.ylabel('Exam 2 score')\n",
    "plt.legend(loc=1);\n",
    "\n",
    "# 选取首尾两点\n",
    "x1_min, x1_max = X[:,1].min(), X[:,1].max()\n",
    "x2_min, x2_max = X[:,2].min(), X[:,2].max()\n",
    "\n",
    "# 在指定的间隔内返回均匀间隔的数字\n",
    "\n",
    "# [X,Y] = meshgrid(x,y) 基于向量 x 和 y 中包含的坐标返回二维网格坐标。\n",
    "# X 是一个矩阵，每一行是 x 的一个副本；Y 也是一个矩阵，每一列是 y 的一个副本。\n",
    "# 坐标 X 和 Y 表示的网格有 length(y) 个行和 length(x) 个列。\n",
    "\n",
    "# numpy.linspace(start, stop, num=50, endpoint=True, retstep=False, dtype=None)\n",
    "# 在指定的间隔内返回均匀间隔的数字。\n",
    "xx1, xx2 = np.meshgrid(np.linspace(x1_min, x1_max), np.linspace(x2_min, x2_max))\n",
    "h = getSigmoid(np.c_[np.ones((xx1.ravel().shape[0],1)), xx1.ravel(), xx2.ravel()].dot(result.x))\n",
    "h = h.reshape(xx1.shape)\n",
    "\n",
    "# Z的形状是跟x, y的数量有关[y, x].\n",
    "b = plt.contour(xx1, xx2, h, [0.5], linewidths=1, colors='b')\n",
    "# b = plt.contour(xx1, xx2, h, 1, linewidths=1, colors='b') 上面是现实那一条线，这是显示几条等高线。\n",
    "plt.clabel(b, inline=True, fontsize=10)"
   ]
  },
  {
   "cell_type": "code",
   "execution_count": 10,
   "metadata": {},
   "outputs": [
    {
     "name": "stdout",
     "output_type": "stream",
     "text": [
      "Train accuracy 89.0%\n"
     ]
    }
   ],
   "source": [
    "# 1.2.4 Evaluating logistic regression\n",
    "\n",
    "# p = PREDICT(theta, X) computes the predictions for X using a \n",
    "# threshold at 0.5 (i.e., if sigmoid(theta'*x) >= 0.5, predict 1)\n",
    "\n",
    "m = y.size\n",
    "p = getSigmoid(X.dot(result.x.T)) >= 0.5\n",
    "predict = p.astype(np.int)\n",
    "print('Train accuracy {}%'.format(100 * sum(predict == y.ravel()) / predict.size))"
   ]
  }
 ],
 "metadata": {
  "kernelspec": {
   "display_name": "Python 3",
   "language": "python",
   "name": "python3"
  },
  "language_info": {
   "codemirror_mode": {
    "name": "ipython",
    "version": 3
   },
   "file_extension": ".py",
   "mimetype": "text/x-python",
   "name": "python",
   "nbconvert_exporter": "python",
   "pygments_lexer": "ipython3",
   "version": "3.7.2"
  }
 },
 "nbformat": 4,
 "nbformat_minor": 2
}
